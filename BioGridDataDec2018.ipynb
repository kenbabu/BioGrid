{
 "cells": [
  {
   "cell_type": "markdown",
   "metadata": {},
   "source": [
    "## Retrieve interactions from BioGrid"
   ]
  },
  {
   "cell_type": "code",
   "execution_count": 161,
   "metadata": {},
   "outputs": [],
   "source": [
    "import numpy as np\n",
    "import pandas as pd\n",
    "import os\n",
    "import sys\n",
    "import datetime\n",
    "import time\n",
    "# import idconversion as idc\n",
    "from idconversion import idconversion as idc\n",
    "from urllib.error import HTTPError"
   ]
  },
  {
   "cell_type": "markdown",
   "metadata": {},
   "source": [
    "## Helper Functions\n"
   ]
  },
  {
   "cell_type": "code",
   "execution_count": 162,
   "metadata": {},
   "outputs": [],
   "source": [
    "def time_stamper(tdate=datetime.datetime.now()):\n",
    "    fmtdate = tdate.strftime('%Y-%m-%d.%H:%M:%S')\n",
    "    return fmtdate"
   ]
  },
  {
   "cell_type": "code",
   "execution_count": 166,
   "metadata": {},
   "outputs": [
    {
     "data": {
      "text/plain": [
       "'2018-12-19.06:52:27'"
      ]
     },
     "execution_count": 166,
     "metadata": {},
     "output_type": "execute_result"
    }
   ],
   "source": [
    "time_stamper(datetime.datetime.now())"
   ]
  },
  {
   "cell_type": "code",
   "execution_count": 167,
   "metadata": {},
   "outputs": [
    {
     "data": {
      "text/plain": [
       "['HTTPError',\n",
       " 'IDLIST',\n",
       " '__builtins__',\n",
       " '__cached__',\n",
       " '__doc__',\n",
       " '__file__',\n",
       " '__loader__',\n",
       " '__name__',\n",
       " '__package__',\n",
       " '__spec__',\n",
       " '__warningregistry__',\n",
       " 'built_id_list',\n",
       " 'chromepath',\n",
       " 'csv',\n",
       " 'datetime',\n",
       " 'from_csv',\n",
       " 'generate_mapping_table',\n",
       " 'idmapping',\n",
       " 'main',\n",
       " 'os',\n",
       " 'show_mapping_table',\n",
       " 'time_stamper',\n",
       " 'url',\n",
       " 'urllib',\n",
       " 'webdriver']"
      ]
     },
     "execution_count": 167,
     "metadata": {},
     "output_type": "execute_result"
    }
   ],
   "source": [
    "dir(idc)\n"
   ]
  },
  {
   "cell_type": "code",
   "execution_count": null,
   "metadata": {},
   "outputs": [],
   "source": []
  },
  {
   "cell_type": "code",
   "execution_count": 7,
   "metadata": {},
   "outputs": [
    {
     "name": "stdout",
     "output_type": "stream",
     "text": [
      "BioGridDataDec2018.ipynb mapping_table.csv        result_mapped.txt\r\n"
     ]
    }
   ],
   "source": [
    "!ls "
   ]
  },
  {
   "cell_type": "code",
   "execution_count": 8,
   "metadata": {},
   "outputs": [
    {
     "data": {
      "text/plain": [
       "'/Users/ken/Projects/Dec2018Notebooks'"
      ]
     },
     "execution_count": 8,
     "metadata": {},
     "output_type": "execute_result"
    }
   ],
   "source": [
    "os.getcwd()"
   ]
  },
  {
   "cell_type": "code",
   "execution_count": 168,
   "metadata": {},
   "outputs": [
    {
     "name": "stdout",
     "output_type": "stream",
     "text": [
      "yourlist:M201812188471C63D39733769F8E060B506551E1201F3EBJ\tEntry\r\n",
      "131072\tQ86XK7\r\n",
      "131079\tQ5VW00\r\n",
      "131082\tQ6ZR62\r\n",
      "131091\tQ5GFL6\r\n",
      "131092\tQ8WY41\r\n",
      "131098\tA6NHT5\r\n",
      "131110\tQ6ZRI0\r\n",
      "131112\tP59894\r\n",
      "131113\tQ8IXP5\r\n"
     ]
    }
   ],
   "source": [
    "!cat result_mapped.txt | cut -f 1,2 | head"
   ]
  },
  {
   "cell_type": "code",
   "execution_count": 5,
   "metadata": {},
   "outputs": [
    {
     "name": "stdout",
     "output_type": "stream",
     "text": [
      "Scraping the web..\n",
      "+----------------------------+------------------------+-----------+\n",
      "|            Name            |      Abbreviation      | Direction |\n",
      "+----------------------------+------------------------+-----------+\n",
      "|      UniProtKB AC/ID       |         ACC+ID         |    from   |\n",
      "|        UniProtKB AC        |          ACC           |    both   |\n",
      "|        UniProtKB ID        |           ID           |    both   |\n",
      "|          UniParc           |         UPARC          |    both   |\n",
      "|          UniRef50          |          NF50          |    both   |\n",
      "|          UniRef90          |          NF90          |    both   |\n",
      "|         UniRef100          |         NF100          |    both   |\n",
      "|         Gene name          |        GENENAME        |    both   |\n",
      "|     EMBL/GenBank/DDBJ      |        EMBL_ID         |    both   |\n",
      "|   EMBL/GenBank/DDBJ CDS    |          EMBL          |    both   |\n",
      "|    Entrez Gene (GeneID)    |     P_ENTREZGENEID     |    both   |\n",
      "|         GI number          |          P_GI          |    both   |\n",
      "|            PIR             |          PIR           |    both   |\n",
      "|     RefSeq Nucleotide      |      REFSEQ_NT_ID      |    both   |\n",
      "|       RefSeq Protein       |      P_REFSEQ_AC       |    both   |\n",
      "|          UniGene           |       UNIGENE_ID       |    both   |\n",
      "|            PDB             |         PDB_ID         |    both   |\n",
      "|          DisProt           |       DISPROT_ID       |    both   |\n",
      "|          BioGrid           |       BIOGRID_ID       |    both   |\n",
      "|            DIP             |         DIP_ID         |    both   |\n",
      "|            MINT            |        MINT_ID         |    both   |\n",
      "|           STRING           |       STRING_ID        |    both   |\n",
      "|           ChEMBL           |       CHEMBL_ID        |    both   |\n",
      "|          DrugBank          |      DRUGBANK_ID       |    both   |\n",
      "|    GuidetoPHARMACOLOGY     | GUIDETOPHARMACOLOGY_ID |    both   |\n",
      "|        SwissLipids         |     SWISSLIPIDS_ID     |    both   |\n",
      "|         Allergome          |      ALLERGOME_ID      |    both   |\n",
      "|           ESTHER           |       ESTHER_ID        |    both   |\n",
      "|           MEROPS           |       MEROPS_ID        |    both   |\n",
      "|          mycoCLAP          |      MYCOCLAP_ID       |    both   |\n",
      "|         PeroxiBase         |     PEROXIBASE_ID      |    both   |\n",
      "|           REBASE           |       REBASE_ID        |    both   |\n",
      "|            TCDB            |        TCDB_ID         |    both   |\n",
      "|          BioMuta           |       BIOMUTA_ID       |    both   |\n",
      "|            DMDM            |        DMDM_ID         |    both   |\n",
      "|        World-2DPAGE        |    WORLD_2DPAGE_ID     |    both   |\n",
      "|           DNASU            |        DNASU_ID        |    both   |\n",
      "|          Ensembl           |       ENSEMBL_ID       |    both   |\n",
      "|      Ensembl Protein       |     ENSEMBL_PRO_ID     |    both   |\n",
      "|     Ensembl Transcript     |     ENSEMBL_TRS_ID     |    both   |\n",
      "|      Ensembl Genomes       |    ENSEMBLGENOME_ID    |    both   |\n",
      "|  Ensembl Genomes Protein   |  ENSEMBLGENOME_PRO_ID  |    both   |\n",
      "| Ensembl Genomes Transcript |  ENSEMBLGENOME_TRS_ID  |    both   |\n",
      "|           GeneDB           |       GENEDB_ID        |    both   |\n",
      "|    GeneID (Entrez Gene)    |     P_ENTREZGENEID     |    both   |\n",
      "|            KEGG            |        KEGG_ID         |    both   |\n",
      "|           PATRIC           |       PATRIC_ID        |    both   |\n",
      "|            UCSC            |        UCSC_ID         |    both   |\n",
      "|         VectorBase         |     VECTORBASE_ID      |    both   |\n",
      "|         WBParaSite         |     WBPARASITE_ID      |    both   |\n",
      "|       ArachnoServer        |    ARACHNOSERVER_ID    |    both   |\n",
      "|          Araport           |       ARAPORT_ID       |    both   |\n",
      "|            CCDS            |        CCDS_ID         |    both   |\n",
      "|            CGD             |          CGD           |    both   |\n",
      "|         ConoServer         |     CONOSERVER_ID      |    both   |\n",
      "|         dictyBase          |      DICTYBASE_ID      |    both   |\n",
      "|          EchoBASE          |      ECHOBASE_ID       |    both   |\n",
      "|          EcoGene           |       ECOGENE_ID       |    both   |\n",
      "|          euHCVdb           |       EUHCVDB_ID       |    both   |\n",
      "|          EuPathDB          |      EUPATHDB_ID       |    both   |\n",
      "|          FlyBase           |       FLYBASE_ID       |    both   |\n",
      "|         GeneCards          |      GENECARDS_ID      |    both   |\n",
      "|        GeneReviews         |     GENEREVIEWS_ID     |    both   |\n",
      "|          H-InvDB           |       H_INVDB_ID       |    both   |\n",
      "|            HGNC            |        HGNC_ID         |    both   |\n",
      "|            HPA             |         HPA_ID         |    both   |\n",
      "|         LegioList          |      LEGIOLIST_ID      |    both   |\n",
      "|          Leproma           |       LEPROMA_ID       |    both   |\n",
      "|          MaizeGDB          |      MAIZEGDB_ID       |    both   |\n",
      "|            MGI             |         MGI_ID         |    both   |\n",
      "|            MIM             |         MIM_ID         |    both   |\n",
      "|          neXtProt          |      NEXTPROT_ID       |    both   |\n",
      "|          Orphanet          |      ORPHANET_ID       |    both   |\n",
      "|          PharmGKB          |      PHARMGKB_ID       |    both   |\n",
      "|          PomBase           |       POMBASE_ID       |    both   |\n",
      "|         PseudoCAP          |      PSEUDOCAP_ID      |    both   |\n",
      "|            RGD             |         RGD_ID         |    both   |\n",
      "|            SGD             |         SGD_ID         |    both   |\n",
      "|        TubercuList         |     TUBERCULIST_ID     |    both   |\n",
      "|          WormBase          |      WORMBASE_ID       |    both   |\n",
      "|      WormBase Protein      |    WORMBASE_PRO_ID     |    both   |\n",
      "|    WormBase Transcript     |    WORMBASE_TRS_ID     |    both   |\n",
      "|          Xenbase           |       XENBASE_ID       |    both   |\n",
      "|            ZFIN            |        ZFIN_ID         |    both   |\n",
      "|           eggNOG           |       EGGNOG_ID        |    both   |\n",
      "|          GeneTree          |      GENETREE_ID       |    both   |\n",
      "|          HOGENOM           |       HOGENOM_ID       |    both   |\n",
      "|          HOVERGEN          |      HOVERGEN_ID       |    both   |\n",
      "|             KO             |         KO_ID          |    both   |\n",
      "|            OMA             |         OMA_ID         |    both   |\n",
      "|          OrthoDB           |       ORTHODB_ID       |    both   |\n",
      "|          TreeFam           |       TREEFAM_ID       |    both   |\n",
      "|           BioCyc           |       BIOCYC_ID        |    both   |\n",
      "|          Reactome          |      REACTOME_ID       |    both   |\n",
      "|         UniPathway         |     UNIPATHWAY_ID      |    both   |\n",
      "|          CleanEx           |       CLEANEX_ID       |    both   |\n",
      "|          CollecTF          |      COLLECTF_ID       |    both   |\n",
      "|          ChiTaRS           |       CHITARS_ID       |    both   |\n",
      "|          GeneWiki          |      GENEWIKI_ID       |    both   |\n",
      "|         GenomeRNAi         |     GENOMERNAI_ID      |    both   |\n",
      "+----------------------------+------------------------+-----------+\n"
     ]
    }
   ],
   "source": [
    "idc.show_mapping_table()"
   ]
  },
  {
   "cell_type": "code",
   "execution_count": 169,
   "metadata": {},
   "outputs": [],
   "source": [
    "Datadir = '/Users/ken/Documents/From_KEN_MAC/2018Data'"
   ]
  },
  {
   "cell_type": "code",
   "execution_count": 170,
   "metadata": {},
   "outputs": [],
   "source": [
    "biogridfile = os.path.join(Datadir, \"BIOGRID-ALL-3.5.165.tab2.txt\")"
   ]
  },
  {
   "cell_type": "code",
   "execution_count": 171,
   "metadata": {},
   "outputs": [
    {
     "name": "stderr",
     "output_type": "stream",
     "text": [
      "/Users/ken/anaconda3/lib/python3.6/site-packages/IPython/core/interactiveshell.py:3020: DtypeWarning: Columns (1,2,18) have mixed types. Specify dtype option on import or set low_memory=False.\n",
      "  interactivity=interactivity, compiler=compiler, result=result)\n"
     ]
    }
   ],
   "source": [
    "df = pd.read_csv(biogridfile, sep='\\t')"
   ]
  },
  {
   "cell_type": "code",
   "execution_count": 9,
   "metadata": {},
   "outputs": [
    {
     "data": {
      "text/html": [
       "<div>\n",
       "<style scoped>\n",
       "    .dataframe tbody tr th:only-of-type {\n",
       "        vertical-align: middle;\n",
       "    }\n",
       "\n",
       "    .dataframe tbody tr th {\n",
       "        vertical-align: top;\n",
       "    }\n",
       "\n",
       "    .dataframe thead th {\n",
       "        text-align: right;\n",
       "    }\n",
       "</style>\n",
       "<table border=\"1\" class=\"dataframe\">\n",
       "  <thead>\n",
       "    <tr style=\"text-align: right;\">\n",
       "      <th></th>\n",
       "      <th>#BioGRID Interaction ID</th>\n",
       "      <th>Entrez Gene Interactor A</th>\n",
       "      <th>Entrez Gene Interactor B</th>\n",
       "      <th>BioGRID ID Interactor A</th>\n",
       "      <th>BioGRID ID Interactor B</th>\n",
       "      <th>Systematic Name Interactor A</th>\n",
       "      <th>Systematic Name Interactor B</th>\n",
       "      <th>Official Symbol Interactor A</th>\n",
       "      <th>Official Symbol Interactor B</th>\n",
       "      <th>Synonyms Interactor A</th>\n",
       "      <th>...</th>\n",
       "      <th>Pubmed ID</th>\n",
       "      <th>Organism Interactor A</th>\n",
       "      <th>Organism Interactor B</th>\n",
       "      <th>Throughput</th>\n",
       "      <th>Score</th>\n",
       "      <th>Modification</th>\n",
       "      <th>Phenotypes</th>\n",
       "      <th>Qualifications</th>\n",
       "      <th>Tags</th>\n",
       "      <th>Source Database</th>\n",
       "    </tr>\n",
       "  </thead>\n",
       "  <tbody>\n",
       "    <tr>\n",
       "      <th>0</th>\n",
       "      <td>103</td>\n",
       "      <td>6416</td>\n",
       "      <td>2318</td>\n",
       "      <td>112315</td>\n",
       "      <td>108607</td>\n",
       "      <td>-</td>\n",
       "      <td>-</td>\n",
       "      <td>MAP2K4</td>\n",
       "      <td>FLNC</td>\n",
       "      <td>JNKK|JNKK1|MAPKK4|MEK4|MKK4|PRKMK4|SAPKK-1|SAP...</td>\n",
       "      <td>...</td>\n",
       "      <td>9006895</td>\n",
       "      <td>9606</td>\n",
       "      <td>9606</td>\n",
       "      <td>Low Throughput</td>\n",
       "      <td>-</td>\n",
       "      <td>-</td>\n",
       "      <td>-</td>\n",
       "      <td>-</td>\n",
       "      <td>-</td>\n",
       "      <td>BIOGRID</td>\n",
       "    </tr>\n",
       "    <tr>\n",
       "      <th>1</th>\n",
       "      <td>117</td>\n",
       "      <td>84665</td>\n",
       "      <td>88</td>\n",
       "      <td>124185</td>\n",
       "      <td>106603</td>\n",
       "      <td>-</td>\n",
       "      <td>-</td>\n",
       "      <td>MYPN</td>\n",
       "      <td>ACTN2</td>\n",
       "      <td>CMD1DD|CMH22|MYOP|RCM4</td>\n",
       "      <td>...</td>\n",
       "      <td>11309420</td>\n",
       "      <td>9606</td>\n",
       "      <td>9606</td>\n",
       "      <td>Low Throughput</td>\n",
       "      <td>-</td>\n",
       "      <td>-</td>\n",
       "      <td>-</td>\n",
       "      <td>-</td>\n",
       "      <td>-</td>\n",
       "      <td>BIOGRID</td>\n",
       "    </tr>\n",
       "  </tbody>\n",
       "</table>\n",
       "<p>2 rows × 24 columns</p>\n",
       "</div>"
      ],
      "text/plain": [
       "   #BioGRID Interaction ID Entrez Gene Interactor A Entrez Gene Interactor B  \\\n",
       "0                      103                     6416                     2318   \n",
       "1                      117                    84665                       88   \n",
       "\n",
       "   BioGRID ID Interactor A  BioGRID ID Interactor B  \\\n",
       "0                   112315                   108607   \n",
       "1                   124185                   106603   \n",
       "\n",
       "  Systematic Name Interactor A Systematic Name Interactor B  \\\n",
       "0                            -                            -   \n",
       "1                            -                            -   \n",
       "\n",
       "  Official Symbol Interactor A Official Symbol Interactor B  \\\n",
       "0                       MAP2K4                         FLNC   \n",
       "1                         MYPN                        ACTN2   \n",
       "\n",
       "                               Synonyms Interactor A       ...        \\\n",
       "0  JNKK|JNKK1|MAPKK4|MEK4|MKK4|PRKMK4|SAPKK-1|SAP...       ...         \n",
       "1                             CMD1DD|CMH22|MYOP|RCM4       ...         \n",
       "\n",
       "  Pubmed ID Organism Interactor A Organism Interactor B      Throughput  \\\n",
       "0   9006895                  9606                  9606  Low Throughput   \n",
       "1  11309420                  9606                  9606  Low Throughput   \n",
       "\n",
       "   Score  Modification  Phenotypes Qualifications Tags Source Database  \n",
       "0      -             -           -              -    -         BIOGRID  \n",
       "1      -             -           -              -    -         BIOGRID  \n",
       "\n",
       "[2 rows x 24 columns]"
      ]
     },
     "execution_count": 9,
     "metadata": {},
     "output_type": "execute_result"
    }
   ],
   "source": [
    "df.head(2)"
   ]
  },
  {
   "cell_type": "markdown",
   "metadata": {},
   "source": [
    "## Get interactors"
   ]
  },
  {
   "cell_type": "code",
   "execution_count": 10,
   "metadata": {},
   "outputs": [
    {
     "data": {
      "text/plain": [
       "Index(['#BioGRID Interaction ID', 'Entrez Gene Interactor A',\n",
       "       'Entrez Gene Interactor B', 'BioGRID ID Interactor A',\n",
       "       'BioGRID ID Interactor B', 'Systematic Name Interactor A',\n",
       "       'Systematic Name Interactor B', 'Official Symbol Interactor A',\n",
       "       'Official Symbol Interactor B', 'Synonyms Interactor A',\n",
       "       'Synonyms Interactor B', 'Experimental System',\n",
       "       'Experimental System Type', 'Author', 'Pubmed ID',\n",
       "       'Organism Interactor A', 'Organism Interactor B', 'Throughput', 'Score',\n",
       "       'Modification', 'Phenotypes', 'Qualifications', 'Tags',\n",
       "       'Source Database'],\n",
       "      dtype='object')"
      ]
     },
     "execution_count": 10,
     "metadata": {},
     "output_type": "execute_result"
    }
   ],
   "source": [
    "df.columns"
   ]
  },
  {
   "cell_type": "code",
   "execution_count": 18,
   "metadata": {},
   "outputs": [
    {
     "data": {
      "text/plain": [
       "62"
      ]
     },
     "execution_count": 18,
     "metadata": {},
     "output_type": "execute_result"
    }
   ],
   "source": [
    "len(df['Organism Interactor A'].unique().tolist())"
   ]
  },
  {
   "cell_type": "code",
   "execution_count": 19,
   "metadata": {},
   "outputs": [
    {
     "data": {
      "text/plain": [
       "(1583787, 24)"
      ]
     },
     "execution_count": 19,
     "metadata": {},
     "output_type": "execute_result"
    }
   ],
   "source": [
    "df.shape"
   ]
  },
  {
   "cell_type": "code",
   "execution_count": null,
   "metadata": {},
   "outputs": [],
   "source": []
  },
  {
   "cell_type": "markdown",
   "metadata": {},
   "source": [
    "## Get Human Interactions"
   ]
  },
  {
   "cell_type": "code",
   "execution_count": 172,
   "metadata": {},
   "outputs": [],
   "source": [
    "human_mask = (df['Organism Interactor A'] == 9606) & (df['Organism Interactor B'] == 9606)"
   ]
  },
  {
   "cell_type": "code",
   "execution_count": 173,
   "metadata": {},
   "outputs": [],
   "source": [
    "df_human = df.loc[human_mask].reset_index()"
   ]
  },
  {
   "cell_type": "code",
   "execution_count": 174,
   "metadata": {},
   "outputs": [
    {
     "data": {
      "text/plain": [
       "(409173, 25)"
      ]
     },
     "execution_count": 174,
     "metadata": {},
     "output_type": "execute_result"
    }
   ],
   "source": [
    "df_human.shape"
   ]
  },
  {
   "cell_type": "code",
   "execution_count": 14,
   "metadata": {},
   "outputs": [
    {
     "data": {
      "text/html": [
       "<div>\n",
       "<style scoped>\n",
       "    .dataframe tbody tr th:only-of-type {\n",
       "        vertical-align: middle;\n",
       "    }\n",
       "\n",
       "    .dataframe tbody tr th {\n",
       "        vertical-align: top;\n",
       "    }\n",
       "\n",
       "    .dataframe thead th {\n",
       "        text-align: right;\n",
       "    }\n",
       "</style>\n",
       "<table border=\"1\" class=\"dataframe\">\n",
       "  <thead>\n",
       "    <tr style=\"text-align: right;\">\n",
       "      <th></th>\n",
       "      <th>index</th>\n",
       "      <th>#BioGRID Interaction ID</th>\n",
       "      <th>Entrez Gene Interactor A</th>\n",
       "      <th>Entrez Gene Interactor B</th>\n",
       "      <th>BioGRID ID Interactor A</th>\n",
       "      <th>BioGRID ID Interactor B</th>\n",
       "      <th>Systematic Name Interactor A</th>\n",
       "      <th>Systematic Name Interactor B</th>\n",
       "      <th>Official Symbol Interactor A</th>\n",
       "      <th>Official Symbol Interactor B</th>\n",
       "      <th>...</th>\n",
       "      <th>Pubmed ID</th>\n",
       "      <th>Organism Interactor A</th>\n",
       "      <th>Organism Interactor B</th>\n",
       "      <th>Throughput</th>\n",
       "      <th>Score</th>\n",
       "      <th>Modification</th>\n",
       "      <th>Phenotypes</th>\n",
       "      <th>Qualifications</th>\n",
       "      <th>Tags</th>\n",
       "      <th>Source Database</th>\n",
       "    </tr>\n",
       "  </thead>\n",
       "  <tbody>\n",
       "    <tr>\n",
       "      <th>0</th>\n",
       "      <td>0</td>\n",
       "      <td>103</td>\n",
       "      <td>6416</td>\n",
       "      <td>2318</td>\n",
       "      <td>112315</td>\n",
       "      <td>108607</td>\n",
       "      <td>-</td>\n",
       "      <td>-</td>\n",
       "      <td>MAP2K4</td>\n",
       "      <td>FLNC</td>\n",
       "      <td>...</td>\n",
       "      <td>9006895</td>\n",
       "      <td>9606</td>\n",
       "      <td>9606</td>\n",
       "      <td>Low Throughput</td>\n",
       "      <td>-</td>\n",
       "      <td>-</td>\n",
       "      <td>-</td>\n",
       "      <td>-</td>\n",
       "      <td>-</td>\n",
       "      <td>BIOGRID</td>\n",
       "    </tr>\n",
       "    <tr>\n",
       "      <th>1</th>\n",
       "      <td>1</td>\n",
       "      <td>117</td>\n",
       "      <td>84665</td>\n",
       "      <td>88</td>\n",
       "      <td>124185</td>\n",
       "      <td>106603</td>\n",
       "      <td>-</td>\n",
       "      <td>-</td>\n",
       "      <td>MYPN</td>\n",
       "      <td>ACTN2</td>\n",
       "      <td>...</td>\n",
       "      <td>11309420</td>\n",
       "      <td>9606</td>\n",
       "      <td>9606</td>\n",
       "      <td>Low Throughput</td>\n",
       "      <td>-</td>\n",
       "      <td>-</td>\n",
       "      <td>-</td>\n",
       "      <td>-</td>\n",
       "      <td>-</td>\n",
       "      <td>BIOGRID</td>\n",
       "    </tr>\n",
       "  </tbody>\n",
       "</table>\n",
       "<p>2 rows × 25 columns</p>\n",
       "</div>"
      ],
      "text/plain": [
       "   index  #BioGRID Interaction ID Entrez Gene Interactor A  \\\n",
       "0      0                      103                     6416   \n",
       "1      1                      117                    84665   \n",
       "\n",
       "  Entrez Gene Interactor B  BioGRID ID Interactor A  BioGRID ID Interactor B  \\\n",
       "0                     2318                   112315                   108607   \n",
       "1                       88                   124185                   106603   \n",
       "\n",
       "  Systematic Name Interactor A Systematic Name Interactor B  \\\n",
       "0                            -                            -   \n",
       "1                            -                            -   \n",
       "\n",
       "  Official Symbol Interactor A Official Symbol Interactor B       ...        \\\n",
       "0                       MAP2K4                         FLNC       ...         \n",
       "1                         MYPN                        ACTN2       ...         \n",
       "\n",
       "  Pubmed ID Organism Interactor A Organism Interactor B      Throughput Score  \\\n",
       "0   9006895                  9606                  9606  Low Throughput     -   \n",
       "1  11309420                  9606                  9606  Low Throughput     -   \n",
       "\n",
       "   Modification  Phenotypes  Qualifications Tags Source Database  \n",
       "0             -           -               -    -         BIOGRID  \n",
       "1             -           -               -    -         BIOGRID  \n",
       "\n",
       "[2 rows x 25 columns]"
      ]
     },
     "execution_count": 14,
     "metadata": {},
     "output_type": "execute_result"
    }
   ],
   "source": [
    "df_human.head(2)"
   ]
  },
  {
   "cell_type": "code",
   "execution_count": 15,
   "metadata": {},
   "outputs": [
    {
     "data": {
      "text/plain": [
       "array(['Two-hybrid', 'Affinity Capture-Western', 'Reconstituted Complex',\n",
       "       'FRET', 'Co-purification', 'Protein-peptide', 'Co-localization',\n",
       "       'Affinity Capture-MS', 'Biochemical Activity',\n",
       "       'Affinity Capture-RNA', 'Co-crystal Structure', 'Far Western',\n",
       "       'Phenotypic Enhancement', 'Phenotypic Suppression',\n",
       "       'Co-fractionation', 'Protein-RNA', 'Synthetic Rescue',\n",
       "       'Affinity Capture-Luminescence', 'PCA', 'Dosage Rescue',\n",
       "       'Negative Genetic', 'Dosage Lethality', 'Synthetic Growth Defect',\n",
       "       'Proximity Label-MS', 'Synthetic Lethality', 'Positive Genetic'],\n",
       "      dtype=object)"
      ]
     },
     "execution_count": 15,
     "metadata": {},
     "output_type": "execute_result"
    }
   ],
   "source": [
    "df_human['Experimental System'].unique()"
   ]
  },
  {
   "cell_type": "code",
   "execution_count": 175,
   "metadata": {},
   "outputs": [],
   "source": [
    "sub_mask = ['BioGRID ID Interactor A','BioGRID ID Interactor B', 'Experimental System Type']"
   ]
  },
  {
   "cell_type": "code",
   "execution_count": 176,
   "metadata": {},
   "outputs": [],
   "source": [
    "df_human_exp = df_human.loc[:,sub_mask]"
   ]
  },
  {
   "cell_type": "code",
   "execution_count": null,
   "metadata": {},
   "outputs": [],
   "source": []
  },
  {
   "cell_type": "code",
   "execution_count": 177,
   "metadata": {},
   "outputs": [],
   "source": [
    "lsa = df_human_exp['BioGRID ID Interactor A'].unique().tolist()\n",
    "lsb = df_human_exp['BioGRID ID Interactor B'].unique().tolist()"
   ]
  },
  {
   "cell_type": "code",
   "execution_count": 178,
   "metadata": {},
   "outputs": [],
   "source": [
    "lsfull = set(lsa).union(set(lsb))"
   ]
  },
  {
   "cell_type": "code",
   "execution_count": 21,
   "metadata": {},
   "outputs": [
    {
     "data": {
      "text/plain": [
       "17299"
      ]
     },
     "execution_count": 21,
     "metadata": {},
     "output_type": "execute_result"
    }
   ],
   "source": [
    "len(lsfull)"
   ]
  },
  {
   "cell_type": "code",
   "execution_count": 179,
   "metadata": {},
   "outputs": [],
   "source": [
    "lsboth = set(lsa).intersection(set(lsb))"
   ]
  },
  {
   "cell_type": "code",
   "execution_count": 180,
   "metadata": {},
   "outputs": [],
   "source": [
    "lsBiogridProts = list(lsfull)[:]"
   ]
  },
  {
   "cell_type": "code",
   "execution_count": 181,
   "metadata": {},
   "outputs": [
    {
     "data": {
      "text/plain": [
       "12268"
      ]
     },
     "execution_count": 181,
     "metadata": {},
     "output_type": "execute_result"
    }
   ],
   "source": [
    "len(lsboth)"
   ]
  },
  {
   "cell_type": "code",
   "execution_count": 182,
   "metadata": {},
   "outputs": [
    {
     "data": {
      "text/plain": [
       "17299"
      ]
     },
     "execution_count": 182,
     "metadata": {},
     "output_type": "execute_result"
    }
   ],
   "source": [
    "lsBiogridProts.__len__()"
   ]
  },
  {
   "cell_type": "markdown",
   "metadata": {},
   "source": [
    "## Break Long Lists into Chunks"
   ]
  },
  {
   "cell_type": "code",
   "execution_count": 183,
   "metadata": {},
   "outputs": [],
   "source": [
    "def chunks(l, n=1000):\n",
    "    for i in range(0, len(l), n):\n",
    "        yield l[i:i+n]"
   ]
  },
  {
   "cell_type": "code",
   "execution_count": 192,
   "metadata": {},
   "outputs": [],
   "source": [
    "lschunks = chunks(lsBiogridProts)\n",
    "topchunks = (i[:10] for i in lschunks)\n",
    "\n",
    "try:\n",
    "    mapped = (idc.idmapping('BIOGRID_ID', 'ACC', lsids=j) for j in topchunks)\n",
    "except KeyboardInterrupt as ke:\n",
    "    print(\"Interrupted by the user\")\n"
   ]
  },
  {
   "cell_type": "code",
   "execution_count": 193,
   "metadata": {},
   "outputs": [],
   "source": [
    "next(mapped)"
   ]
  },
  {
   "cell_type": "code",
   "execution_count": 194,
   "metadata": {},
   "outputs": [
    {
     "name": "stdout",
     "output_type": "stream",
     "text": [
      "2018-12-18.21:00:00_result_mapped.txt mapping_table.csv\r\n",
      "BioGridDataDec2018.ipynb              result_mapped.txt\r\n"
     ]
    }
   ],
   "source": [
    "!ls"
   ]
  },
  {
   "cell_type": "markdown",
   "metadata": {},
   "source": [
    "## Process chunks"
   ]
  },
  {
   "cell_type": "code",
   "execution_count": 67,
   "metadata": {},
   "outputs": [
    {
     "name": "stdout",
     "output_type": "stream",
     "text": [
      "CPU times: user 6 µs, sys: 1 µs, total: 7 µs\n",
      "Wall time: 14.1 µs\n"
     ]
    }
   ],
   "source": [
    "%%time\n",
    "def process_chunks(idfro, idto, lstchunks):\n",
    "    count = 0\n",
    "    for chunk in lstchunks:\n",
    "        print(len(chunk))\n",
    "#         time.sleep(2)\n",
    "        count +=1\n",
    "#         yield len(chunk)\n",
    "#         print(\"processing chunk_{}...\".format(count))\n",
    "# #         yield chunk[:10]\n",
    "#         yield idc.idmapping(idfro,idto, lsids=chunk)\n",
    "        "
   ]
  },
  {
   "cell_type": "code",
   "execution_count": 68,
   "metadata": {},
   "outputs": [
    {
     "name": "stdout",
     "output_type": "stream",
     "text": [
      "CPU times: user 6 µs, sys: 0 ns, total: 6 µs\n",
      "Wall time: 11 µs\n"
     ]
    }
   ],
   "source": [
    "%%time\n",
    "my_chunks =  process_chunks('BIOGRID_ID', 'ACC', lsChunks)"
   ]
  },
  {
   "cell_type": "code",
   "execution_count": 70,
   "metadata": {},
   "outputs": [],
   "source": [
    "my_chunks"
   ]
  },
  {
   "cell_type": "code",
   "execution_count": 57,
   "metadata": {},
   "outputs": [
    {
     "data": {
      "text/plain": [
       "[]"
      ]
     },
     "execution_count": 57,
     "metadata": {},
     "output_type": "execute_result"
    }
   ],
   "source": [
    "list(p)"
   ]
  },
  {
   "cell_type": "code",
   "execution_count": 40,
   "metadata": {},
   "outputs": [
    {
     "name": "stdout",
     "output_type": "stream",
     "text": [
      "2018-12-18.17:21:23_result_mapped.txt mapping_table.csv\r\n",
      "2018-12-18.21:00:00_result_mapped.txt result_mapped.txt\r\n",
      "BioGridDataDec2018.ipynb\r\n"
     ]
    }
   ],
   "source": [
    "!ls"
   ]
  },
  {
   "cell_type": "code",
   "execution_count": 85,
   "metadata": {},
   "outputs": [
    {
     "name": "stdout",
     "output_type": "stream",
     "text": [
      "CPU times: user 27.5 ms, sys: 6.32 ms, total: 33.8 ms\n",
      "Wall time: 4.05 s\n"
     ]
    }
   ],
   "source": [
    "%%time\n",
    "idc.idmapping('BIOGRID_ID','ACC', lsids=lsBiogridProts)"
   ]
  },
  {
   "cell_type": "code",
   "execution_count": 73,
   "metadata": {},
   "outputs": [
    {
     "name": "stdout",
     "output_type": "stream",
     "text": [
      "BioGridDataDec2018.ipynb mapping_table.csv        result_mapped.txt\r\n"
     ]
    }
   ],
   "source": [
    "!ls"
   ]
  },
  {
   "cell_type": "code",
   "execution_count": 65,
   "metadata": {},
   "outputs": [
    {
     "name": "stdout",
     "output_type": "stream",
     "text": [
      "yourlist:M20181218E579DAD5D4BBAF98E82B06D27107170A049E1FK\tEntry\r\n",
      "131072\tQ86XK7\r\n",
      "131079\tQ5VW00\r\n",
      "131082\tQ6ZR62\r\n",
      "131091\tQ5GFL6\r\n",
      "131092\tQ8WY41\r\n",
      "131098\tA6NHT5\r\n",
      "131110\tQ6ZRI0\r\n",
      "131112\tP59894\r\n",
      "131113\tQ8IXP5\r\n"
     ]
    }
   ],
   "source": [
    "!cut -f 1,2 result_mapped.txt | head "
   ]
  },
  {
   "cell_type": "code",
   "execution_count": 109,
   "metadata": {},
   "outputs": [
    {
     "data": {
      "text/plain": [
       "'P13368 P20806 Q9UM73 P97793'"
      ]
     },
     "execution_count": 109,
     "metadata": {},
     "output_type": "execute_result"
    }
   ],
   "source": [
    "\" \".join(list(map(lambda x: str(x), IDLIST)))"
   ]
  },
  {
   "cell_type": "code",
   "execution_count": 139,
   "metadata": {},
   "outputs": [
    {
     "data": {
      "text/plain": [
       "['P13368', 'P20806', 'Q9UM73', 'P97793']"
      ]
     },
     "execution_count": 139,
     "metadata": {},
     "output_type": "execute_result"
    }
   ],
   "source": [
    "idc.idconversion.IDLIST"
   ]
  },
  {
   "cell_type": "code",
   "execution_count": 217,
   "metadata": {},
   "outputs": [],
   "source": [
    "la = (i for i in range(10))"
   ]
  },
  {
   "cell_type": "code",
   "execution_count": 211,
   "metadata": {},
   "outputs": [
    {
     "data": {
      "text/plain": [
       "3"
      ]
     },
     "execution_count": 211,
     "metadata": {},
     "output_type": "execute_result"
    }
   ],
   "source": [
    "next(la)"
   ]
  },
  {
   "cell_type": "code",
   "execution_count": 218,
   "metadata": {},
   "outputs": [],
   "source": [
    "squares = (i**2 for i in la)"
   ]
  },
  {
   "cell_type": "code",
   "execution_count": 224,
   "metadata": {},
   "outputs": [
    {
     "data": {
      "text/plain": [
       "25"
      ]
     },
     "execution_count": 224,
     "metadata": {},
     "output_type": "execute_result"
    }
   ],
   "source": [
    "next(squares)"
   ]
  },
  {
   "cell_type": "code",
   "execution_count": null,
   "metadata": {},
   "outputs": [],
   "source": []
  }
 ],
 "metadata": {
  "kernelspec": {
   "display_name": "Python 3",
   "language": "python",
   "name": "python3"
  },
  "language_info": {
   "codemirror_mode": {
    "name": "ipython",
    "version": 3
   },
   "file_extension": ".py",
   "mimetype": "text/x-python",
   "name": "python",
   "nbconvert_exporter": "python",
   "pygments_lexer": "ipython3",
   "version": "3.6.6"
  }
 },
 "nbformat": 4,
 "nbformat_minor": 2
}
